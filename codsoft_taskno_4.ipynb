{
  "nbformat": 4,
  "nbformat_minor": 0,
  "metadata": {
    "colab": {
      "provenance": [],
      "authorship_tag": "ABX9TyNcOPUywjl10yMe4QWoNn7y",
      "include_colab_link": true
    },
    "kernelspec": {
      "name": "python3",
      "display_name": "Python 3"
    },
    "language_info": {
      "name": "python"
    }
  },
  "cells": [
    {
      "cell_type": "markdown",
      "metadata": {
        "id": "view-in-github",
        "colab_type": "text"
      },
      "source": [
        "<a href=\"https://colab.research.google.com/github/smhasandanish/codsoft-datasci-internship/blob/main/codsoft_taskno_4.ipynb\" target=\"_parent\"><img src=\"https://colab.research.google.com/assets/colab-badge.svg\" alt=\"Open In Colab\"/></a>"
      ]
    },
    {
      "cell_type": "code",
      "execution_count": null,
      "metadata": {
        "colab": {
          "base_uri": "https://localhost:8080/",
          "height": 73
        },
        "id": "or1hC0tF5iQW",
        "outputId": "2c1bed80-2084-438a-8151-71878dd7eb74"
      },
      "outputs": [
        {
          "output_type": "display_data",
          "data": {
            "text/plain": [
              "<IPython.core.display.HTML object>"
            ],
            "text/html": [
              "\n",
              "     <input type=\"file\" id=\"files-57981e35-d448-41e8-86ae-1c59560d1797\" name=\"files[]\" multiple disabled\n",
              "        style=\"border:none\" />\n",
              "     <output id=\"result-57981e35-d448-41e8-86ae-1c59560d1797\">\n",
              "      Upload widget is only available when the cell has been executed in the\n",
              "      current browser session. Please rerun this cell to enable.\n",
              "      </output>\n",
              "      <script>// Copyright 2017 Google LLC\n",
              "//\n",
              "// Licensed under the Apache License, Version 2.0 (the \"License\");\n",
              "// you may not use this file except in compliance with the License.\n",
              "// You may obtain a copy of the License at\n",
              "//\n",
              "//      http://www.apache.org/licenses/LICENSE-2.0\n",
              "//\n",
              "// Unless required by applicable law or agreed to in writing, software\n",
              "// distributed under the License is distributed on an \"AS IS\" BASIS,\n",
              "// WITHOUT WARRANTIES OR CONDITIONS OF ANY KIND, either express or implied.\n",
              "// See the License for the specific language governing permissions and\n",
              "// limitations under the License.\n",
              "\n",
              "/**\n",
              " * @fileoverview Helpers for google.colab Python module.\n",
              " */\n",
              "(function(scope) {\n",
              "function span(text, styleAttributes = {}) {\n",
              "  const element = document.createElement('span');\n",
              "  element.textContent = text;\n",
              "  for (const key of Object.keys(styleAttributes)) {\n",
              "    element.style[key] = styleAttributes[key];\n",
              "  }\n",
              "  return element;\n",
              "}\n",
              "\n",
              "// Max number of bytes which will be uploaded at a time.\n",
              "const MAX_PAYLOAD_SIZE = 100 * 1024;\n",
              "\n",
              "function _uploadFiles(inputId, outputId) {\n",
              "  const steps = uploadFilesStep(inputId, outputId);\n",
              "  const outputElement = document.getElementById(outputId);\n",
              "  // Cache steps on the outputElement to make it available for the next call\n",
              "  // to uploadFilesContinue from Python.\n",
              "  outputElement.steps = steps;\n",
              "\n",
              "  return _uploadFilesContinue(outputId);\n",
              "}\n",
              "\n",
              "// This is roughly an async generator (not supported in the browser yet),\n",
              "// where there are multiple asynchronous steps and the Python side is going\n",
              "// to poll for completion of each step.\n",
              "// This uses a Promise to block the python side on completion of each step,\n",
              "// then passes the result of the previous step as the input to the next step.\n",
              "function _uploadFilesContinue(outputId) {\n",
              "  const outputElement = document.getElementById(outputId);\n",
              "  const steps = outputElement.steps;\n",
              "\n",
              "  const next = steps.next(outputElement.lastPromiseValue);\n",
              "  return Promise.resolve(next.value.promise).then((value) => {\n",
              "    // Cache the last promise value to make it available to the next\n",
              "    // step of the generator.\n",
              "    outputElement.lastPromiseValue = value;\n",
              "    return next.value.response;\n",
              "  });\n",
              "}\n",
              "\n",
              "/**\n",
              " * Generator function which is called between each async step of the upload\n",
              " * process.\n",
              " * @param {string} inputId Element ID of the input file picker element.\n",
              " * @param {string} outputId Element ID of the output display.\n",
              " * @return {!Iterable<!Object>} Iterable of next steps.\n",
              " */\n",
              "function* uploadFilesStep(inputId, outputId) {\n",
              "  const inputElement = document.getElementById(inputId);\n",
              "  inputElement.disabled = false;\n",
              "\n",
              "  const outputElement = document.getElementById(outputId);\n",
              "  outputElement.innerHTML = '';\n",
              "\n",
              "  const pickedPromise = new Promise((resolve) => {\n",
              "    inputElement.addEventListener('change', (e) => {\n",
              "      resolve(e.target.files);\n",
              "    });\n",
              "  });\n",
              "\n",
              "  const cancel = document.createElement('button');\n",
              "  inputElement.parentElement.appendChild(cancel);\n",
              "  cancel.textContent = 'Cancel upload';\n",
              "  const cancelPromise = new Promise((resolve) => {\n",
              "    cancel.onclick = () => {\n",
              "      resolve(null);\n",
              "    };\n",
              "  });\n",
              "\n",
              "  // Wait for the user to pick the files.\n",
              "  const files = yield {\n",
              "    promise: Promise.race([pickedPromise, cancelPromise]),\n",
              "    response: {\n",
              "      action: 'starting',\n",
              "    }\n",
              "  };\n",
              "\n",
              "  cancel.remove();\n",
              "\n",
              "  // Disable the input element since further picks are not allowed.\n",
              "  inputElement.disabled = true;\n",
              "\n",
              "  if (!files) {\n",
              "    return {\n",
              "      response: {\n",
              "        action: 'complete',\n",
              "      }\n",
              "    };\n",
              "  }\n",
              "\n",
              "  for (const file of files) {\n",
              "    const li = document.createElement('li');\n",
              "    li.append(span(file.name, {fontWeight: 'bold'}));\n",
              "    li.append(span(\n",
              "        `(${file.type || 'n/a'}) - ${file.size} bytes, ` +\n",
              "        `last modified: ${\n",
              "            file.lastModifiedDate ? file.lastModifiedDate.toLocaleDateString() :\n",
              "                                    'n/a'} - `));\n",
              "    const percent = span('0% done');\n",
              "    li.appendChild(percent);\n",
              "\n",
              "    outputElement.appendChild(li);\n",
              "\n",
              "    const fileDataPromise = new Promise((resolve) => {\n",
              "      const reader = new FileReader();\n",
              "      reader.onload = (e) => {\n",
              "        resolve(e.target.result);\n",
              "      };\n",
              "      reader.readAsArrayBuffer(file);\n",
              "    });\n",
              "    // Wait for the data to be ready.\n",
              "    let fileData = yield {\n",
              "      promise: fileDataPromise,\n",
              "      response: {\n",
              "        action: 'continue',\n",
              "      }\n",
              "    };\n",
              "\n",
              "    // Use a chunked sending to avoid message size limits. See b/62115660.\n",
              "    let position = 0;\n",
              "    do {\n",
              "      const length = Math.min(fileData.byteLength - position, MAX_PAYLOAD_SIZE);\n",
              "      const chunk = new Uint8Array(fileData, position, length);\n",
              "      position += length;\n",
              "\n",
              "      const base64 = btoa(String.fromCharCode.apply(null, chunk));\n",
              "      yield {\n",
              "        response: {\n",
              "          action: 'append',\n",
              "          file: file.name,\n",
              "          data: base64,\n",
              "        },\n",
              "      };\n",
              "\n",
              "      let percentDone = fileData.byteLength === 0 ?\n",
              "          100 :\n",
              "          Math.round((position / fileData.byteLength) * 100);\n",
              "      percent.textContent = `${percentDone}% done`;\n",
              "\n",
              "    } while (position < fileData.byteLength);\n",
              "  }\n",
              "\n",
              "  // All done.\n",
              "  yield {\n",
              "    response: {\n",
              "      action: 'complete',\n",
              "    }\n",
              "  };\n",
              "}\n",
              "\n",
              "scope.google = scope.google || {};\n",
              "scope.google.colab = scope.google.colab || {};\n",
              "scope.google.colab._files = {\n",
              "  _uploadFiles,\n",
              "  _uploadFilesContinue,\n",
              "};\n",
              "})(self);\n",
              "</script> "
            ]
          },
          "metadata": {}
        },
        {
          "output_type": "stream",
          "name": "stdout",
          "text": [
            "Saving car_purchasing.xlsx to car_purchasing (1).xlsx\n"
          ]
        }
      ],
      "source": [
        "from google.colab import files\n",
        "uploaded = files.upload()\n"
      ]
    },
    {
      "cell_type": "code",
      "source": [
        "print(data.columns)\n"
      ],
      "metadata": {
        "colab": {
          "base_uri": "https://localhost:8080/"
        },
        "id": "HNGYrOFR8mwG",
        "outputId": "c5dc7542-4374-4cc2-d56c-62674f3b0ac3"
      },
      "execution_count": null,
      "outputs": [
        {
          "output_type": "stream",
          "name": "stdout",
          "text": [
            "Index(['customer name', 'customer e-mail', 'country', 'gender', 'age',\n",
            "       'annual Salary', 'credit card debt', 'net worth',\n",
            "       'car purchase amount'],\n",
            "      dtype='object')\n"
          ]
        }
      ]
    },
    {
      "cell_type": "code",
      "source": [
        "# Import necessary libraries\n",
        "import numpy as np\n",
        "import pandas as pd\n",
        "from sklearn.model_selection import train_test_split\n",
        "from sklearn.linear_model import LinearRegression\n",
        "from sklearn.preprocessing import StandardScaler\n",
        "from sklearn.metrics import mean_absolute_error\n",
        "\n",
        "# Load your sales data (replace 'data.csv' with your data file)\n",
        "data = pd.read_excel('car_purchasing.xlsx')\n",
        "\n",
        "# Drop unnecessary columns (if any)\n",
        "data.drop(['customer name', 'customer e-mail'], axis=1, inplace=True)\n",
        "\n",
        "# Handle missing values (if any)\n",
        "data.dropna(inplace=True)\n",
        "\n",
        "# Split data into features (X) and target variable (y)\n",
        "X = data.drop('car purchase amount', axis=1)  # Features\n",
        "y = data['car purchase amount']  # Target variable\n",
        "\n",
        "# Convert categorical variables (like 'gender' and 'country') to numerical using one-hot encoding\n",
        "X = pd.get_dummies(X, columns=['gender', 'country'], drop_first=True)\n",
        "\n",
        "# Standardize numerical features\n",
        "scaler = StandardScaler()\n",
        "X_scaled = scaler.fit_transform(X)\n",
        "\n",
        "# Split data into training and testing sets\n",
        "X_train, X_test, y_train, y_test = train_test_split(X_scaled, y, test_size=0.2, random_state=42)\n",
        "\n",
        "# Choose a machine learning model (Linear Regression) and train it\n",
        "model = LinearRegression()\n",
        "model.fit(X_train, y_train)\n",
        "\n",
        "# Evaluate the model\n",
        "y_pred = model.predict(X_test)\n",
        "mae = mean_absolute_error(y_test, y_pred)\n",
        "print(f'Mean Absolute Error: {mae}')\n",
        "\n",
        "# Make a sales prediction for a new set of features\n",
        "new_features = {\n",
        "    'age': 35,\n",
        "    'annual Salary': 75000,\n",
        "    'credit card debt': 2000,\n",
        "    'net worth': 500000,\n",
        "    'gender': 'Male',  # Example values for 'gender' and 'country'\n",
        "    'country': 'Canada'\n",
        "}\n",
        "\n",
        "# ...\n",
        "\n",
        "\n",
        "\n",
        "\n"
      ],
      "metadata": {
        "colab": {
          "base_uri": "https://localhost:8080/"
        },
        "id": "z5FZ1w3F_YFs",
        "outputId": "e8595a8c-7aed-4ebd-c8c0-be9d462f48c4"
      },
      "execution_count": null,
      "outputs": [
        {
          "output_type": "stream",
          "name": "stdout",
          "text": [
            "Mean Absolute Error: 16435919157494.91\n"
          ]
        }
      ]
    },
    {
      "cell_type": "code",
      "source": [
        "# Manually create a DataFrame with all possible columns\n",
        "new_data_columns = list(X.columns)  # Get the list of all possible columns from training data\n",
        "new_data_values = [new_features.get(col, 0) for col in new_data_columns]  # Use 0 for missing columns\n",
        "\n",
        "# Create a DataFrame with a single row (your new data point)\n",
        "X_new = pd.DataFrame([new_data_values], columns=new_data_columns)\n",
        "\n",
        "# Standardize the new_data using the same scaler object\n",
        "X_new_scaled = scaler.transform(X_new)\n",
        "\n",
        "# Predict car purchase amount for X_new_scaled\n",
        "predicted_sales = model.predict(X_new_scaled)\n",
        "print(f'Predicted Car Purchase Amount: {predicted_sales[0]}')\n"
      ],
      "metadata": {
        "colab": {
          "base_uri": "https://localhost:8080/"
        },
        "id": "ff6yntNoAa8y",
        "outputId": "bd3be2de-956d-47bf-a8ef-dc1e8717d940"
      },
      "execution_count": null,
      "outputs": [
        {
          "output_type": "stream",
          "name": "stdout",
          "text": [
            "Predicted Car Purchase Amount: 43974.17401123047\n"
          ]
        }
      ]
    },
    {
      "cell_type": "code",
      "source": [
        "import matplotlib.pyplot as plt\n",
        "\n",
        "# Predict car purchase amount for X_new_scaled\n",
        "predicted_sales = model.predict(X_new_scaled)\n",
        "\n",
        "# Plot the predicted car purchase amount\n",
        "plt.figure(figsize=(8, 6))\n",
        "plt.bar(['Predicted'], [predicted_sales[0]], label='Predicted Car Purchase Amount', color='black')\n",
        "plt.xlabel('Prediction')\n",
        "plt.ylabel('Car Purchase Amount')\n",
        "plt.title('Predicted Car Purchase Amount for New Data Point')\n",
        "plt.legend()\n",
        "plt.show()\n"
      ],
      "metadata": {
        "colab": {
          "base_uri": "https://localhost:8080/",
          "height": 564
        },
        "id": "0UaldULcApz8",
        "outputId": "1794b35a-c6c9-47fd-c022-7fc19ed98e65"
      },
      "execution_count": null,
      "outputs": [
        {
          "output_type": "display_data",
          "data": {
            "text/plain": [
              "<Figure size 800x600 with 1 Axes>"
            ],
            "image/png": "[encoded data removed]"
          },
          "metadata": {}
        }
      ]
    },
    {
      "cell_type": "code",
      "source": [
        "# Sample user data\n",
        "sample_user_data = {\n",
        "    'customer name': 'John Doe',\n",
        "    'customer e-mail': 'john@example.com',\n",
        "    'country': 'Canada',\n",
        "    'gender': 'Male',\n",
        "    'age': 60,\n",
        "    'annual Salary': 200,\n",
        "    'credit card debt': 2000,\n",
        "    'net worth': 500000,\n",
        "    'car purchase amount': 0  # Placeholder value, as we want to predict this\n",
        "}\n",
        "\n",
        "# Manually create a DataFrame with all possible columns\n",
        "new_data_columns = list(X.columns)  # Get the list of all possible columns from training data\n",
        "new_data_values = [sample_user_data.get(col, 0) for col in new_data_columns]  # Use 0 for missing columns\n",
        "\n",
        "# Create a DataFrame with a single row (sample user data)\n",
        "X_new = pd.DataFrame([new_data_values], columns=new_data_columns)\n",
        "\n",
        "# Standardize the new_data using the same scaler object\n",
        "X_new_scaled = scaler.transform(X_new)\n",
        "\n",
        "# Predict car purchase amount for X_new_scaled\n",
        "predicted_sales = model.predict(X_new_scaled)\n",
        "predicted_amount = predicted_sales[0]\n",
        "\n",
        "# Print the predicted car purchase amount\n",
        "print(f'Predicted Car Purchase Amount for {sample_user_data[\"customer name\"]}: {predicted_amount}')\n",
        "\n",
        "# Plot the predicted car purchase amount\n",
        "import matplotlib.pyplot as plt\n",
        "\n",
        "plt.figure(figsize=(8, 6))\n",
        "plt.bar(['Predicted'], [predicted_amount], label='Predicted Car Purchase Amount', color='blue')\n",
        "plt.xlabel('Prediction')\n",
        "plt.ylabel('Car Purchase Amount')\n",
        "plt.title(f'Predicted Car Purchase Amount for {sample_user_data[\"customer name\"]}')\n",
        "plt.legend()\n",
        "plt.show()\n"
      ],
      "metadata": {
        "colab": {
          "base_uri": "https://localhost:8080/",
          "height": 581
        },
        "id": "-NcAKf_yBMpt",
        "outputId": "d8332ac8-4aa2-4216-f84f-d261a5a201c9"
      },
      "execution_count": null,
      "outputs": [
        {
          "output_type": "stream",
          "name": "stdout",
          "text": [
            "Predicted Car Purchase Amount for John Doe: 22950.86505126953\n"
          ]
        },
        {
          "output_type": "display_data",
          "data": {
            "text/plain": [
              "<Figure size 800x600 with 1 Axes>"
            ],
            "image/png": "[encoded data removed]"
          },
          "metadata": {}
        }
      ]
    },
    {
      "cell_type": "code",
      "source": [
        "import pandas as pd\n",
        "import numpy as np\n",
        "from sklearn.preprocessing import StandardScaler\n",
        "from sklearn.linear_model import LinearRegression\n",
        "import matplotlib.pyplot as plt\n",
        "\n",
        "# Load your sales data (replace 'data.csv' with your data file)\n",
        "data = pd.read_excel('car_purchasing.xlsx')\n",
        "\n",
        "# Drop unnecessary columns (if any)\n",
        "data.drop(['customer name', 'customer e-mail', 'country', 'gender'], axis=1, inplace=True)\n",
        "\n",
        "# Handle missing values (if any)\n",
        "data.dropna(inplace=True)\n",
        "\n",
        "# Split data into features (X) and target variable (y)\n",
        "X = data.drop('car purchase amount', axis=1)  # Features\n",
        "y = data['car purchase amount']  # Target variable\n",
        "\n",
        "# Standardize numerical features\n",
        "scaler = StandardScaler()\n",
        "X_scaled = scaler.fit_transform(X)\n",
        "\n",
        "# Train a linear regression model\n",
        "model = LinearRegression()\n",
        "model.fit(X_scaled, y)\n",
        "\n",
        "# Function to predict car purchase amount and display results\n",
        "def predict_car_purchase():\n",
        "    # Get user input for sample data\n",
        "    sample_user_data = {}\n",
        "    for col in X.columns:\n",
        "        sample_user_data[col] = float(input(f'Enter {col}: '))\n",
        "\n",
        "    # Manually create a DataFrame with user input\n",
        "    new_data_columns = list(X.columns)\n",
        "    new_data_values = [sample_user_data.get(col, 0) for col in new_data_columns]\n",
        "    X_new = pd.DataFrame([new_data_values], columns=new_data_columns)\n",
        "\n",
        "    # Standardize the new_data using the same scaler object\n",
        "    X_new_scaled = scaler.transform(X_new)\n",
        "\n",
        "    # Predict car purchase amount for X_new_scaled\n",
        "    predicted_sales = model.predict(X_new_scaled)\n",
        "    predicted_amount = predicted_sales[0]\n",
        "\n",
        "    # Print the predicted car purchase amount\n",
        "    print(f'Predicted Car Purchase Amount: {predicted_amount}')\n",
        "\n",
        "# Predict car purchase amount for user-entered sample data\n",
        "predict_car_purchase()\n"
      ],
      "metadata": {
        "colab": {
          "base_uri": "https://localhost:8080/"
        },
        "id": "ymKn6UwHBnD9",
        "outputId": "c8d03756-3108-4ede-bc90-d7cfd6305dec"
      },
      "execution_count": null,
      "outputs": [
        {
          "output_type": "stream",
          "name": "stdout",
          "text": [
            "Enter age: 30\n",
            "Enter annual Salary: 200000\n",
            "Enter credit card debt: 2000\n",
            "Enter net worth: 30000000\n",
            "Predicted Car Purchase Amount: 965068.9380438661\n"
          ]
        }
      ]
    }
  ]
}